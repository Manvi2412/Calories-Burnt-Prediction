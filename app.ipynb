{
 "cells": [
  {
   "cell_type": "code",
   "execution_count": 1,
   "id": "7bad4046-c7e5-4000-a755-8ef986e86e53",
   "metadata": {},
   "outputs": [
    {
     "name": "stderr",
     "output_type": "stream",
     "text": [
      "2025-06-27 00:30:56.601 \n",
      "  \u001b[33m\u001b[1mWarning:\u001b[0m to view this Streamlit app on a browser, run it with the following\n",
      "  command:\n",
      "\n",
      "    streamlit run C:\\Users\\DELL\\anaconda3\\Lib\\site-packages\\ipykernel_launcher.py [ARGUMENTS]\n",
      "2025-06-27 00:30:56.604 Session state does not function when running a script without `streamlit run`\n"
     ]
    }
   ],
   "source": [
    "import streamlit as st\n",
    "import pandas as pd\n",
    "import numpy as np\n",
    "import pickle\n",
    "\n",
    "# Load trained model\n",
    "model = pickle.load(open(\"calorie_model.pkl\", \"rb\"))\n",
    "\n",
    "st.title(\"🔥 Calories Burnt Predictor\")\n",
    "st.write(\"Enter your details to predict how many calories you've burnt during exercise.\")\n",
    "\n",
    "# Input fields\n",
    "gender = st.selectbox(\"Gender\", [\"male\", \"female\"])\n",
    "age = st.slider(\"Age\", 10, 80, 25)\n",
    "height = st.number_input(\"Height (in cm)\", min_value=100, max_value=250, value=170)\n",
    "weight = st.number_input(\"Weight (in kg)\", min_value=30, max_value=200, value=65)\n",
    "duration = st.slider(\"Duration of Exercise (minutes)\", 1, 180, 30)\n",
    "heart_rate = st.slider(\"Heart Rate (bpm)\", 60, 200, 100)\n",
    "body_temp = st.slider(\"Body Temperature (°C)\", 35.0, 42.0, 38.5)\n",
    "\n",
    "# Derived feature\n",
    "bmi = weight / ((height / 100) ** 2)\n",
    "\n",
    "# Age Group\n",
    "if age <= 18:\n",
    "    age_group = 'Teen'\n",
    "elif age <= 30:\n",
    "    age_group = 'Young Adult'\n",
    "elif age <= 45:\n",
    "    age_group = 'Adult'\n",
    "elif age <= 60:\n",
    "    age_group = 'Middle-aged'\n",
    "else:\n",
    "    age_group = 'Senior'\n",
    "\n",
    "# One-hot encoding manually\n",
    "gender_female = 1 if gender == \"female\" else 0\n",
    "age_group_encoding = {\n",
    "    'Young Adult': [1, 0, 0, 0],\n",
    "    'Adult': [0, 1, 0, 0],\n",
    "    'Middle-aged': [0, 0, 1, 0],\n",
    "    'Senior': [0, 0, 0, 1],\n",
    "    'Teen': [0, 0, 0, 0]\n",
    "}\n",
    "\n",
    "encoded_age_group = age_group_encoding[age_group]\n",
    "\n",
    "# Final input\n",
    "input_data = np.array([age, height, weight, duration, heart_rate, body_temp, bmi,\n",
    "                       gender_female] + encoded_age_group).reshape(1, -1)\n",
    "\n",
    "# Predict\n",
    "if st.button(\"Predict Calories Burnt\"):\n",
    "    prediction = model.predict(input_data)\n",
    "    st.success(f\"Estimated Calories Burnt: 🔥 {prediction[0]:.2f} calories\")\n"
   ]
  },
  {
   "cell_type": "code",
   "execution_count": null,
   "id": "58e7f778-4cb6-482c-b23b-582f22701e41",
   "metadata": {},
   "outputs": [],
   "source": []
  }
 ],
 "metadata": {
  "kernelspec": {
   "display_name": "Python [conda env:base] *",
   "language": "python",
   "name": "conda-base-py"
  },
  "language_info": {
   "codemirror_mode": {
    "name": "ipython",
    "version": 3
   },
   "file_extension": ".py",
   "mimetype": "text/x-python",
   "name": "python",
   "nbconvert_exporter": "python",
   "pygments_lexer": "ipython3",
   "version": "3.12.7"
  }
 },
 "nbformat": 4,
 "nbformat_minor": 5
}
